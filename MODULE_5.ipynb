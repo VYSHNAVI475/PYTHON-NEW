{
  "nbformat": 4,
  "nbformat_minor": 0,
  "metadata": {
    "colab": {
      "name": "MODULE 5.ipynb",
      "provenance": [],
      "collapsed_sections": [],
      "authorship_tag": "ABX9TyPYdIegwU9j3pkCxKCUecVr",
      "include_colab_link": true
    },
    "kernelspec": {
      "name": "python3",
      "display_name": "Python 3"
    },
    "language_info": {
      "name": "python"
    }
  },
  "cells": [
    {
      "cell_type": "markdown",
      "metadata": {
        "id": "view-in-github",
        "colab_type": "text"
      },
      "source": [
        "<a href=\"https://colab.research.google.com/github/VYSHNAVI475/PYTHON-NEW/blob/module-5/MODULE_5.ipynb\" target=\"_parent\"><img src=\"https://colab.research.google.com/assets/colab-badge.svg\" alt=\"Open In Colab\"/></a>"
      ]
    },
    {
      "cell_type": "markdown",
      "source": [
        "##search"
      ],
      "metadata": {
        "id": "t02S5SQxMYvk"
      }
    },
    {
      "cell_type": "code",
      "source": [
        "import re\n",
        "txt = \"My name is vyshnavi i study btech cse in gitam\"\n",
        "x = re.search(\"name is vyshnavi\",txt)\n",
        "print(x)"
      ],
      "metadata": {
        "colab": {
          "base_uri": "https://localhost:8080/"
        },
        "id": "NrkZ6hFbNfn8",
        "outputId": "dee2f271-51ec-47cd-ad92-c0bcdbc900c1"
      },
      "execution_count": null,
      "outputs": [
        {
          "output_type": "stream",
          "name": "stdout",
          "text": [
            "<re.Match object; span=(3, 19), match='name is vyshnavi'>\n"
          ]
        }
      ]
    },
    {
      "cell_type": "code",
      "execution_count": null,
      "metadata": {
        "colab": {
          "base_uri": "https://localhost:8080/"
        },
        "id": "dchVVdMYJVh9",
        "outputId": "c7375fd3-8609-49d9-ada5-581aecfd8022"
      },
      "outputs": [
        {
          "output_type": "stream",
          "name": "stdout",
          "text": [
            "yes,its a match\n"
          ]
        }
      ],
      "source": [
        "import re\n",
        "txt =\"It iss skill that applies to music, painting, poetry, dance nd more. Moreover, nature iss no less than art. For instance, iff nature creates something unique, it iss also art. Artists use their artwork fr passing along their feelings\"\n",
        "x = re.search(\"lies\",txt)\n",
        "if x:\n",
        "  print(\"yes,its a match\")\n",
        "else:\n",
        "  print(\"no\")"
      ]
    },
    {
      "cell_type": "code",
      "source": [
        "import re\n",
        "txt = \"My name is vyshnavi i study btech cse in gitam\"\n",
        "x = re.search(\"name is vyshnavi\",txt)\n",
        "print(x)"
      ],
      "metadata": {
        "id": "L2PJwADwP978"
      },
      "execution_count": null,
      "outputs": []
    },
    {
      "cell_type": "markdown",
      "source": [
        "##findall"
      ],
      "metadata": {
        "id": "Rp_7zZeXMQaf"
      }
    },
    {
      "cell_type": "code",
      "source": [
        "import re\n",
        "txt = \"Be calm be positive show bravery \"\n",
        "x = re.findall(\"c.*m\",txt)\n",
        "print(x)"
      ],
      "metadata": {
        "colab": {
          "base_uri": "https://localhost:8080/"
        },
        "id": "dC1CNMApLwHP",
        "outputId": "cc1552b6-1c79-4b8b-dd85-fca748291be1"
      },
      "execution_count": null,
      "outputs": [
        {
          "output_type": "stream",
          "name": "stdout",
          "text": [
            "[]\n"
          ]
        }
      ]
    },
    {
      "cell_type": "code",
      "source": [
        "import re\n",
        "txt = \"Be calm be positive show bravery \"\n",
        "x = re.findall(\"c.*ive\",txt)\n",
        "if x:\n",
        "  print(\"yes,its a match\")\n",
        "else:\n",
        "  print(\"no\")"
      ],
      "metadata": {
        "colab": {
          "base_uri": "https://localhost:8080/"
        },
        "id": "FxJL9bt1NdcW",
        "outputId": "6bcff084-5061-4d18-eaa2-4b6e4f90805d"
      },
      "execution_count": null,
      "outputs": [
        {
          "output_type": "stream",
          "name": "stdout",
          "text": [
            "yes,its a match\n"
          ]
        }
      ]
    },
    {
      "cell_type": "markdown",
      "source": [
        "##split\n"
      ],
      "metadata": {
        "id": "Q5pxSYEHOrjG"
      }
    },
    {
      "cell_type": "code",
      "source": [
        "import re\n",
        "txt = \"Be calm Be positive\"\n",
        "x = re.split(\"\\s\",txt)\n",
        "print(x)"
      ],
      "metadata": {
        "colab": {
          "base_uri": "https://localhost:8080/"
        },
        "id": "k4sWRX0rU6lt",
        "outputId": "812d2d8f-aabc-43a1-8a0f-0029d622b49a"
      },
      "execution_count": null,
      "outputs": [
        {
          "output_type": "stream",
          "name": "stdout",
          "text": [
            "['Be', 'calm', 'Be', 'positive']\n"
          ]
        }
      ]
    },
    {
      "cell_type": "code",
      "source": [
        "import re\n",
        "txt = \"Be calm be positive\"\n",
        "x = re.split(\"\\s\",txt, 1)\n",
        "print(x)"
      ],
      "metadata": {
        "colab": {
          "base_uri": "https://localhost:8080/"
        },
        "id": "hmUln8_HVkdv",
        "outputId": "fa8e5b57-d0f3-418c-ac17-180d3704df68"
      },
      "execution_count": null,
      "outputs": [
        {
          "output_type": "stream",
          "name": "stdout",
          "text": [
            "['Be', 'calm be positive']\n"
          ]
        }
      ]
    },
    {
      "cell_type": "markdown",
      "source": [
        "##sub"
      ],
      "metadata": {
        "id": "KZwiOnoCWiTT"
      }
    },
    {
      "cell_type": "code",
      "source": [
        "import re\n",
        "txt = \"Be calm be positive\"\n",
        "x = re.sub(\"\\s\",\"3\",txt)\n",
        "print(x)"
      ],
      "metadata": {
        "id": "mjpfoSR9Wqcn",
        "colab": {
          "base_uri": "https://localhost:8080/"
        },
        "outputId": "69fce0d8-fa35-4fa2-b44b-6af8fab6c850"
      },
      "execution_count": null,
      "outputs": [
        {
          "output_type": "stream",
          "name": "stdout",
          "text": [
            "Be3calm3be3positive\n"
          ]
        }
      ]
    },
    {
      "cell_type": "code",
      "source": [
        "import re\n",
        "txt = \"The rain in Spain\"\n",
        "x = re.sub(\"\\s\", \"7\", txt,2)\n",
        "print(x)"
      ],
      "metadata": {
        "colab": {
          "base_uri": "https://localhost:8080/"
        },
        "id": "B0pC3n8P36Q5",
        "outputId": "5d7e2434-69c4-4c98-a605-572f7b9e8fd8"
      },
      "execution_count": null,
      "outputs": [
        {
          "output_type": "stream",
          "name": "stdout",
          "text": [
            "The7rain7in Spain\n"
          ]
        }
      ]
    },
    {
      "cell_type": "markdown",
      "source": [
        "##Write a Python program to check that a string contains only a certain set of characters (in this case a-z, A-Z and 0-9).\n"
      ],
      "metadata": {
        "id": "bLTj1TK7wywD"
      }
    },
    {
      "cell_type": "code",
      "source": [
        "import re\n",
        "h=\"Myself hemakesh\"\n",
        "v=re.findall(\"[a-zA-Z0-9]\",h)\n",
        "if v:\n",
        " print(\"yes\")\n",
        "else:\n",
        " print(\"no\")"
      ],
      "metadata": {
        "colab": {
          "base_uri": "https://localhost:8080/"
        },
        "id": "qw2zMejpw3Wz",
        "outputId": "8fc9449b-ddc0-4822-97c0-3f273d37e774"
      },
      "execution_count": 1,
      "outputs": [
        {
          "output_type": "stream",
          "name": "stdout",
          "text": [
            "yes\n"
          ]
        }
      ]
    },
    {
      "cell_type": "markdown",
      "source": [
        "##Write a Python program that matches a string that has an a followed by zero or more b's"
      ],
      "metadata": {
        "id": "t6IsaxHuw-KC"
      }
    },
    {
      "cell_type": "code",
      "source": [
        "import re\n",
        "h=\"pubg\"\n",
        "v=re.search(\"p*b\",h)\n",
        "if v:\n",
        " print(\"Matching\")\n",
        "else:\n",
        " print(\"Not Matching\")"
      ],
      "metadata": {
        "colab": {
          "base_uri": "https://localhost:8080/"
        },
        "id": "TaMTBuV9w_i6",
        "outputId": "4b8033b1-45e3-423e-d628-30025d8582df"
      },
      "execution_count": 2,
      "outputs": [
        {
          "output_type": "stream",
          "name": "stdout",
          "text": [
            "Matching\n"
          ]
        }
      ]
    },
    {
      "cell_type": "markdown",
      "source": [
        "##Write a Python program that matches a string that has an a followed by one or more b's"
      ],
      "metadata": {
        "id": "x86T81TRxE3C"
      }
    },
    {
      "cell_type": "code",
      "source": [
        "import re\n",
        "h=\"hbo\"\n",
        "v=re.search(\"h+b\",h)\n",
        "if v:\n",
        " print(\"Matching\")\n",
        "else:\n",
        " print(\"Not Matching\")"
      ],
      "metadata": {
        "colab": {
          "base_uri": "https://localhost:8080/"
        },
        "id": "6qJipf-sxGCa",
        "outputId": "d9e958ca-c5cc-44f2-ff07-367f143f18e6"
      },
      "execution_count": 4,
      "outputs": [
        {
          "output_type": "stream",
          "name": "stdout",
          "text": [
            "Matching\n"
          ]
        }
      ]
    },
    {
      "cell_type": "markdown",
      "source": [
        "##Write a Python program that matches a string that has an a followed by zero or one 'b'\n"
      ],
      "metadata": {
        "id": "PSecOGUbxOx6"
      }
    },
    {
      "cell_type": "code",
      "source": [
        "import re\n",
        "h=\"hbo\"\n",
        "v=re.search(\"h?b\",h)\n",
        "if v:\n",
        " print(\"Matching\")\n",
        "else:\n",
        " print(\"Not Matching\")"
      ],
      "metadata": {
        "colab": {
          "base_uri": "https://localhost:8080/"
        },
        "id": "OLObVtUaxSVi",
        "outputId": "2a97a530-0b9e-4261-8d8c-3e761b83ee09"
      },
      "execution_count": 5,
      "outputs": [
        {
          "output_type": "stream",
          "name": "stdout",
          "text": [
            "Matching\n"
          ]
        }
      ]
    },
    {
      "cell_type": "markdown",
      "source": [
        "##Write a Python program that matches a string that has an a followed by three 'b'"
      ],
      "metadata": {
        "id": "mXihIsj5xVwi"
      }
    },
    {
      "cell_type": "code",
      "source": [
        "import re\n",
        "h=\"hhhb\"\n",
        "v=re.search(\"h{3}b\",h)\n",
        "if v:\n",
        " print(\"Yes\")\n",
        "else:\n",
        " print(\"No\")"
      ],
      "metadata": {
        "colab": {
          "base_uri": "https://localhost:8080/"
        },
        "id": "ZYUvYS5SxYg6",
        "outputId": "5e9e2553-10bc-42f6-cb56-e9e294ca275a"
      },
      "execution_count": 6,
      "outputs": [
        {
          "output_type": "stream",
          "name": "stdout",
          "text": [
            "Yes\n"
          ]
        }
      ]
    },
    {
      "cell_type": "markdown",
      "source": [
        "##Write a Python program to find sequences of lowercase letters joined with an underscore"
      ],
      "metadata": {
        "id": "oO6tLmeGxbly"
      }
    },
    {
      "cell_type": "code",
      "source": [
        "import re\n",
        "def hk(h):\n",
        " v = '^[a-z]+_[a-z]+$'\n",
        " if re.search(v,h):\n",
        "     return 'Found a match'\n",
        " else:\n",
        "     return('Not matched')\n",
        "print(hk(\"abbo_abbo\"))\n",
        "print(hk(\"jai_pubg\"))\n",
        "print(hk(\"Jai_Babu\"))"
      ],
      "metadata": {
        "colab": {
          "base_uri": "https://localhost:8080/"
        },
        "id": "SonPBRMLxeCy",
        "outputId": "41b66ec5-3ba5-40bc-fb45-3a9aa5880b4d"
      },
      "execution_count": 10,
      "outputs": [
        {
          "output_type": "stream",
          "name": "stdout",
          "text": [
            "Found a match\n",
            "Found a match\n",
            "Not matched\n"
          ]
        }
      ]
    }
  ]
}