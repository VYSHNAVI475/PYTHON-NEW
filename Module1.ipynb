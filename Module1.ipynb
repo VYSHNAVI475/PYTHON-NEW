{
  "cells": [
    {
      "cell_type": "markdown",
      "metadata": {
        "id": "view-in-github",
        "colab_type": "text"
      },
      "source": [
        "<a href=\"https://colab.research.google.com/github/VYSHNAVI475/PYTHON-NEW/blob/module-1/Module1.ipynb\" target=\"_parent\"><img src=\"https://colab.research.google.com/assets/colab-badge.svg\" alt=\"Open In Colab\"/></a>"
      ]
    },
    {
      "cell_type": "markdown",
      "metadata": {
        "id": "GOsndLtyRpLB"
      },
      "source": [
        "### Accept input from user and store it in variable and print the value."
      ]
    },
    {
      "cell_type": "code",
      "execution_count": null,
      "metadata": {
        "colab": {
          "base_uri": "https://localhost:8080/"
        },
        "id": "rxx3LGncTGBL",
        "outputId": "da937269-46eb-4a72-a16c-7f42bc8d93d5"
      },
      "outputs": [
        {
          "name": "stdout",
          "output_type": "stream",
          "text": [
            "enter the value:10\n",
            "10\n"
          ]
        }
      ],
      "source": [
        "a=int(input(\"enter the value:\"))\n",
        "print(a)"
      ]
    },
    {
      "cell_type": "markdown",
      "metadata": {
        "id": "GzLT4gynTrFK"
      },
      "source": [
        "## Use of print statements and use of (.format )for printing different data types."
      ]
    },
    {
      "cell_type": "code",
      "execution_count": null,
      "metadata": {
        "colab": {
          "base_uri": "https://localhost:8080/"
        },
        "id": "nTVBcUCrTv03",
        "outputId": "d7022db0-d246-4fb9-9cad-4062bab0a7e7"
      },
      "outputs": [
        {
          "name": "stdout",
          "output_type": "stream",
          "text": [
            "The cost of this product is 1500\n"
          ]
        }
      ],
      "source": [
        "price=1500\n",
        "txt=\"The cost of this product is {}\"\n",
        "print(txt.format(price))"
      ]
    },
    {
      "cell_type": "markdown",
      "metadata": {
        "id": "r5mKPIt8YWUP"
      },
      "source": [
        "## Take 2 numbers as user input and add, multiply, divide, subtract, remainder and print\n",
        "the output (Same operations on floating point input as well)\n",
        "x"
      ]
    },
    {
      "cell_type": "code",
      "execution_count": null,
      "metadata": {
        "colab": {
          "base_uri": "https://localhost:8080/"
        },
        "id": "OsVgNw_1YeD-",
        "outputId": "235873ce-5409-485f-9ace-55e86d971120"
      },
      "outputs": [
        {
          "name": "stdout",
          "output_type": "stream",
          "text": [
            "13\n",
            "3\n",
            "40\n",
            "1.6\n",
            "3\n"
          ]
        }
      ],
      "source": [
        "import builtins\n",
        "a=8\n",
        "b=5\n",
        "c=a+b\n",
        "d=a-b\n",
        "e=a*b\n",
        "f=a/b\n",
        "g=a%b\n",
        "print(c)\n",
        "print(d)\n",
        "print(e)\n",
        "print(f)\n",
        "print(g)"
      ]
    },
    {
      "cell_type": "markdown",
      "metadata": {
        "id": "vmErfXQZZD4N"
      },
      "source": [
        "## Conversion of one unit to another (such as hours to minutes, miles to km and etc)"
      ]
    },
    {
      "cell_type": "code",
      "execution_count": null,
      "metadata": {
        "colab": {
          "base_uri": "https://localhost:8080/"
        },
        "id": "CQ3o_8s3ZH1N",
        "outputId": "e15ab200-faff-41cc-812e-4fd0f963f79c"
      },
      "outputs": [
        {
          "name": "stdout",
          "output_type": "stream",
          "text": [
            "enter the number:10\n",
            "600\n"
          ]
        }
      ],
      "source": [
        "a=int(input(\"enter the number:\"))\n",
        "b=a*60\n",
        "print(b)"
      ]
    },
    {
      "cell_type": "markdown",
      "metadata": {
        "id": "lVXVKvLmZlU1"
      },
      "source": [
        "## Usage of mathematical functions in python like math.ceil, floor, fabs, fmod, trunc,pow, sqrt etc. x"
      ]
    },
    {
      "cell_type": "code",
      "execution_count": null,
      "metadata": {
        "colab": {
          "background_save": true,
          "base_uri": "https://localhost:8080/"
        },
        "id": "WkUysbROZsvl",
        "outputId": "b7d0fad8-6ccb-4d68-e8ab-9544cbdc5f33"
      },
      "outputs": [
        {
          "name": "stdout",
          "output_type": "stream",
          "text": [
            "15.0\n",
            "3\n"
          ]
        }
      ],
      "source": [
        "import math\n",
        "x=math.sqrt(225)\n",
        "y=math.ceil(2.6)\n",
        "print(x)\n",
        "print(y)"
      ]
    },
    {
      "cell_type": "markdown",
      "metadata": {
        "id": "5EjMB530atuX"
      },
      "source": [
        "## Building a mathematical calculator that can perform operations according to user input.Use decision making statement."
      ]
    },
    {
      "cell_type": "code",
      "execution_count": null,
      "metadata": {
        "colab": {
          "background_save": true,
          "base_uri": "https://localhost:8080/"
        },
        "id": "EzSlyu-9az19",
        "outputId": "dfd66b85-8e38-4337-a639-69729e5c8bab"
      },
      "outputs": [
        {
          "name": "stdout",
          "output_type": "stream",
          "text": [
            "Select operation.\n",
            "1.Add\n",
            "2.Subtract\n",
            "3.Multiply\n",
            "4.Divide\n",
            "2.0 / 4.0 = 0.5\n"
          ]
        }
      ],
      "source": [
        "# Program make a simple calculator\n",
        "\n",
        "# This function adds two numbers\n",
        "def add(x, y):\n",
        "    return x + y\n",
        "\n",
        "# This function subtracts two numbers\n",
        "def subtract(x, y):\n",
        "    return x - y\n",
        "\n",
        "# This function multiplies two numbers\n",
        "def multiply(x, y):\n",
        "    return x * y\n",
        "\n",
        "# This function divides two numbers\n",
        "def divide(x, y):\n",
        "    return x / y\n",
        "\n",
        "\n",
        "print(\"Select operation.\")\n",
        "print(\"1.Add\")\n",
        "print(\"2.Subtract\")\n",
        "print(\"3.Multiply\")\n",
        "print(\"4.Divide\")\n",
        "\n",
        "while True:\n",
        "    # take input from the user\n",
        "    choice = input(\"Enter choice(1/2/3/4): \")\n",
        "\n",
        "    # check if choice is one of the four options\n",
        "    if choice in ('1', '2', '3', '4'):\n",
        "        num1 = float(input(\"Enter first number: \"))\n",
        "        num2 = float(input(\"Enter second number: \"))\n",
        "\n",
        "        if choice == '1':\n",
        "            print(num1, \"+\", num2, \"=\", add(num1, num2))\n",
        "\n",
        "        elif choice == '2':\n",
        "            print(num1, \"-\", num2, \"=\", subtract(num1, num2))\n",
        "\n",
        "        elif choice == '3':\n",
        "            print(num1, \"*\", num2, \"=\", multiply(num1, num2))\n",
        "\n",
        "        elif choice == '4':\n",
        "            print(num1, \"/\", num2, \"=\", divide(num1, num2))"
      ]
    },
    {
      "cell_type": "markdown",
      "metadata": {
        "id": "4Uedc5itd_1N"
      },
      "source": [
        "## Accepting 5 different subject marks from user and displaying the grade of the student"
      ]
    },
    {
      "cell_type": "code",
      "execution_count": null,
      "metadata": {
        "colab": {
          "base_uri": "https://localhost:8080/",
          "height": 162
        },
        "id": "1jgz-DYgeCVd",
        "outputId": "10f901c6-ea86-4e42-fe9d-9a318e99126b"
      },
      "outputs": [
        {
          "ename": "SyntaxError",
          "evalue": "ignored",
          "output_type": "error",
          "traceback": [
            "\u001b[0;36m  File \u001b[0;32m\"<ipython-input-14-252337598341>\"\u001b[0;36m, line \u001b[0;32m6\u001b[0m\n\u001b[0;31m    a=A+\u001b[0m\n\u001b[0m        ^\u001b[0m\n\u001b[0;31mSyntaxError\u001b[0m\u001b[0;31m:\u001b[0m invalid syntax\n"
          ]
        }
      ],
      "source": [
        "a=int(input(\"enter the marks:\"))\n",
        "b=int(input(\"enter the marks:\"))\n",
        "c=int(input(\"enter the marks:\"))\n",
        "d=int(input(\"enter the marks:\"))\n",
        "e=int(input(\"enter the marks:\"))\n",
        "avg="
      ]
    },
    {
      "cell_type": "markdown",
      "metadata": {
        "id": "oQpqGC29fY7e"
      },
      "source": [
        "## Printing all even numbers, odd numbers, count of even numbers, count of odd numbers within a given range. o Compute the factorial of a given number. b) Compute GCD of two given numbers. c) Generate Fibonacci series up to N numbers."
      ]
    },
    {
      "cell_type": "code",
      "execution_count": null,
      "metadata": {
        "id": "vXZwfyEffhq9"
      },
      "outputs": [],
      "source": [
        "for i in range()"
      ]
    },
    {
      "cell_type": "markdown",
      "metadata": {
        "id": "-dXhbheGhqvP"
      },
      "source": [
        "## Check whether the given input is a) palindrome b) strong c) perfect"
      ]
    },
    {
      "cell_type": "code",
      "execution_count": null,
      "metadata": {
        "id": "_yChLeYohvXG"
      },
      "outputs": [],
      "source": [
        ""
      ]
    },
    {
      "cell_type": "markdown",
      "metadata": {
        "id": "9P7NSWoxhxN3"
      },
      "source": [
        "## x Compute compound interest using loop for a certain principal and interest amount"
      ]
    },
    {
      "cell_type": "code",
      "execution_count": null,
      "metadata": {
        "id": "07KlY4j2hzB2"
      },
      "outputs": [],
      "source": [
        ""
      ]
    }
  ],
  "metadata": {
    "colab": {
      "collapsed_sections": [],
      "name": "Module1.ipynb",
      "provenance": [],
      "toc_visible": true,
      "authorship_tag": "ABX9TyOTzfibFgU5d818fv+n6B3+",
      "include_colab_link": true
    },
    "kernelspec": {
      "display_name": "Python 3",
      "name": "python3"
    },
    "language_info": {
      "name": "python"
    }
  },
  "nbformat": 4,
  "nbformat_minor": 0
}